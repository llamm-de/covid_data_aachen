{
 "cells": [
  {
   "cell_type": "code",
   "execution_count": 4,
   "metadata": {},
   "outputs": [
    {
     "output_type": "error",
     "ename": "ValueError",
     "evalue": "attempted relative import beyond top-level package",
     "traceback": [
      "\u001b[0;31m---------------------------------------------------------------------------\u001b[0m",
      "\u001b[0;31mValueError\u001b[0m                                Traceback (most recent call last)",
      "\u001b[0;32m<ipython-input-4-3fde3d76f76c>\u001b[0m in \u001b[0;36m<module>\u001b[0;34m\u001b[0m\n\u001b[1;32m      4\u001b[0m \u001b[0;32mfrom\u001b[0m \u001b[0mdatetime\u001b[0m \u001b[0;32mimport\u001b[0m \u001b[0mdatetime\u001b[0m\u001b[0;34m\u001b[0m\u001b[0;34m\u001b[0m\u001b[0m\n\u001b[1;32m      5\u001b[0m \u001b[0;32mimport\u001b[0m \u001b[0mio\u001b[0m\u001b[0;34m\u001b[0m\u001b[0;34m\u001b[0m\u001b[0m\n\u001b[0;32m----> 6\u001b[0;31m \u001b[0;32mfrom\u001b[0m \u001b[0;34m.\u001b[0m\u001b[0;34m.\u001b[0m\u001b[0mcovidRequests\u001b[0m \u001b[0;32mimport\u001b[0m \u001b[0mcovidDataAcRequest\u001b[0m\u001b[0;34m\u001b[0m\u001b[0;34m\u001b[0m\u001b[0m\n\u001b[0m",
      "\u001b[0;31mValueError\u001b[0m: attempted relative import beyond top-level package"
     ]
    }
   ],
   "source": [
    "import requests\n",
    "import pandas as pd\n",
    "from pprint import pprint\n",
    "from datetime import datetime\n",
    "import io\n",
    "from ..covidRequests import covidDataAcRequest"
   ]
  },
  {
   "cell_type": "code",
   "execution_count": 3,
   "metadata": {},
   "outputs": [
    {
     "output_type": "error",
     "ename": "NameError",
     "evalue": "name 'covidDataAcRequest' is not defined",
     "traceback": [
      "\u001b[0;31m---------------------------------------------------------------------------\u001b[0m",
      "\u001b[0;31mNameError\u001b[0m                                 Traceback (most recent call last)",
      "\u001b[0;32m<ipython-input-3-1e35eca23174>\u001b[0m in \u001b[0;36m<module>\u001b[0;34m\u001b[0m\n\u001b[0;32m----> 1\u001b[0;31m \u001b[0mrequest\u001b[0m \u001b[0;34m=\u001b[0m \u001b[0mcovidDataAcRequest\u001b[0m\u001b[0;34m(\u001b[0m\u001b[0;34m'https://services-eu1.arcgis.com/2ypUQspLVcN0KOBE/arcgis/rest/services/CoronavirusFallzahlen_öffentlich/FeatureServer/1/query?where=1%3D1&outFields=Kommune,Meldedatum,Positiv,Genesen,Tote,Aktiv,Inzidenz,Creator&outSR=4326&f=json'\u001b[0m\u001b[0;34m)\u001b[0m\u001b[0;34m\u001b[0m\u001b[0;34m\u001b[0m\u001b[0m\n\u001b[0m",
      "\u001b[0;31mNameError\u001b[0m: name 'covidDataAcRequest' is not defined"
     ]
    }
   ],
   "source": [
    "request = covidDataAcRequest('https://services-eu1.arcgis.com/2ypUQspLVcN0KOBE/arcgis/rest/services/CoronavirusFallzahlen_öffentlich/FeatureServer/1/query?where=1%3D1&outFields=Kommune,Meldedatum,Positiv,Genesen,Tote,Aktiv,Inzidenz,Creator&outSR=4326&f=json')"
   ]
  },
  {
   "cell_type": "code",
   "execution_count": 60,
   "metadata": {},
   "outputs": [],
   "source": [
    "r = requests.get('https://services-eu1.arcgis.com/2ypUQspLVcN0KOBE/arcgis/rest/services/CoronavirusFallzahlen_öffentlich/FeatureServer/1/query?where=1%3D1&outFields=Kommune,Meldedatum,Positiv,Genesen,Tote,Aktiv,Inzidenz,Creator&outSR=4326&f=json')\n",
    "raw_data = r.json()\n",
    "raw_data = raw_data['features']"
   ]
  },
  {
   "cell_type": "code",
   "execution_count": 61,
   "metadata": {},
   "outputs": [],
   "source": [
    "data = {'Aachen':[],\n",
    "        'Alsdorf':[],\n",
    "        'Baesweiler':[],\n",
    "        'Eschweiler':[],\n",
    "        'Herzogenrath':[],\n",
    "        'Monschau':[],\n",
    "        'Roetgen':[],\n",
    "        'Simmerath':[],\n",
    "        'Stolberg':[],\n",
    "        'Würselen':[],\n",
    "        'Städteregion':[],\n",
    "        'noch nicht lokal zugeordnet':[]}"
   ]
  },
  {
   "cell_type": "code",
   "execution_count": 62,
   "metadata": {},
   "outputs": [],
   "source": [
    "# Clean up data set\n",
    "for item in raw_data:\n",
    "    single_set = item['attributes']\n",
    "    location = single_set['Kommune']\n",
    "    del single_set['Creator']\n",
    "    del single_set['Kommune']\n",
    "    single_set['Meldedatum'] = datetime.fromtimestamp(single_set['Meldedatum']//1000)\n",
    "    data[location].append(single_set)"
   ]
  },
  {
   "cell_type": "code",
   "execution_count": 64,
   "metadata": {},
   "outputs": [
    {
     "data": {
      "text/html": [
       "<div>\n",
       "<style scoped>\n",
       "    .dataframe tbody tr th:only-of-type {\n",
       "        vertical-align: middle;\n",
       "    }\n",
       "\n",
       "    .dataframe tbody tr th {\n",
       "        vertical-align: top;\n",
       "    }\n",
       "\n",
       "    .dataframe thead th {\n",
       "        text-align: right;\n",
       "    }\n",
       "</style>\n",
       "<table border=\"1\" class=\"dataframe\">\n",
       "  <thead>\n",
       "    <tr style=\"text-align: right;\">\n",
       "      <th></th>\n",
       "      <th>Meldedatum</th>\n",
       "      <th>Positiv</th>\n",
       "      <th>Genesen</th>\n",
       "      <th>Tote</th>\n",
       "      <th>Aktiv</th>\n",
       "      <th>Inzidenz</th>\n",
       "    </tr>\n",
       "  </thead>\n",
       "  <tbody>\n",
       "    <tr>\n",
       "      <th>0</th>\n",
       "      <td>2020-03-21 10:05:00</td>\n",
       "      <td>502</td>\n",
       "      <td>NaN</td>\n",
       "      <td>6</td>\n",
       "      <td>496</td>\n",
       "      <td>NaN</td>\n",
       "    </tr>\n",
       "    <tr>\n",
       "      <th>1</th>\n",
       "      <td>2020-03-22 10:05:00</td>\n",
       "      <td>524</td>\n",
       "      <td>NaN</td>\n",
       "      <td>8</td>\n",
       "      <td>516</td>\n",
       "      <td>NaN</td>\n",
       "    </tr>\n",
       "    <tr>\n",
       "      <th>2</th>\n",
       "      <td>2020-03-23 10:05:00</td>\n",
       "      <td>534</td>\n",
       "      <td>NaN</td>\n",
       "      <td>8</td>\n",
       "      <td>526</td>\n",
       "      <td>NaN</td>\n",
       "    </tr>\n",
       "    <tr>\n",
       "      <th>3</th>\n",
       "      <td>2020-03-24 10:05:00</td>\n",
       "      <td>557</td>\n",
       "      <td>NaN</td>\n",
       "      <td>8</td>\n",
       "      <td>549</td>\n",
       "      <td>NaN</td>\n",
       "    </tr>\n",
       "    <tr>\n",
       "      <th>4</th>\n",
       "      <td>2020-03-25 10:05:00</td>\n",
       "      <td>632</td>\n",
       "      <td>NaN</td>\n",
       "      <td>10</td>\n",
       "      <td>622</td>\n",
       "      <td>NaN</td>\n",
       "    </tr>\n",
       "    <tr>\n",
       "      <th>...</th>\n",
       "      <td>...</td>\n",
       "      <td>...</td>\n",
       "      <td>...</td>\n",
       "      <td>...</td>\n",
       "      <td>...</td>\n",
       "      <td>...</td>\n",
       "    </tr>\n",
       "    <tr>\n",
       "      <th>271</th>\n",
       "      <td>2020-12-17 15:00:00</td>\n",
       "      <td>12592</td>\n",
       "      <td>10773.0</td>\n",
       "      <td>251</td>\n",
       "      <td>1567</td>\n",
       "      <td>185.808203</td>\n",
       "    </tr>\n",
       "    <tr>\n",
       "      <th>272</th>\n",
       "      <td>2020-12-18 15:00:00</td>\n",
       "      <td>12810</td>\n",
       "      <td>10784.0</td>\n",
       "      <td>252</td>\n",
       "      <td>1773</td>\n",
       "      <td>186.885352</td>\n",
       "    </tr>\n",
       "    <tr>\n",
       "      <th>273</th>\n",
       "      <td>2020-12-19 15:00:00</td>\n",
       "      <td>12979</td>\n",
       "      <td>10951.0</td>\n",
       "      <td>254</td>\n",
       "      <td>1773</td>\n",
       "      <td>187.423926</td>\n",
       "    </tr>\n",
       "    <tr>\n",
       "      <th>274</th>\n",
       "      <td>2020-12-20 15:00:00</td>\n",
       "      <td>13089</td>\n",
       "      <td>11044.0</td>\n",
       "      <td>255</td>\n",
       "      <td>1789</td>\n",
       "      <td>200.888289</td>\n",
       "    </tr>\n",
       "    <tr>\n",
       "      <th>275</th>\n",
       "      <td>2020-12-21 15:00:00</td>\n",
       "      <td>13144</td>\n",
       "      <td>11221.0</td>\n",
       "      <td>256</td>\n",
       "      <td>1666</td>\n",
       "      <td>200.888289</td>\n",
       "    </tr>\n",
       "  </tbody>\n",
       "</table>\n",
       "<p>276 rows × 6 columns</p>\n",
       "</div>"
      ],
      "text/plain": [
       "             Meldedatum  Positiv  Genesen  Tote  Aktiv    Inzidenz\n",
       "0   2020-03-21 10:05:00      502      NaN     6    496         NaN\n",
       "1   2020-03-22 10:05:00      524      NaN     8    516         NaN\n",
       "2   2020-03-23 10:05:00      534      NaN     8    526         NaN\n",
       "3   2020-03-24 10:05:00      557      NaN     8    549         NaN\n",
       "4   2020-03-25 10:05:00      632      NaN    10    622         NaN\n",
       "..                  ...      ...      ...   ...    ...         ...\n",
       "271 2020-12-17 15:00:00    12592  10773.0   251   1567  185.808203\n",
       "272 2020-12-18 15:00:00    12810  10784.0   252   1773  186.885352\n",
       "273 2020-12-19 15:00:00    12979  10951.0   254   1773  187.423926\n",
       "274 2020-12-20 15:00:00    13089  11044.0   255   1789  200.888289\n",
       "275 2020-12-21 15:00:00    13144  11221.0   256   1666  200.888289\n",
       "\n",
       "[276 rows x 6 columns]"
      ]
     },
     "execution_count": 64,
     "metadata": {},
     "output_type": "execute_result"
    }
   ],
   "source": [
    "# Make pandas dataframe\n",
    "pd.DataFrame(data['Städteregion'])"
   ]
  },
  {
   "cell_type": "code",
   "execution_count": null,
   "metadata": {},
   "outputs": [],
   "source": []
  },
  {
   "cell_type": "code",
   "execution_count": 68,
   "metadata": {},
   "outputs": [],
   "source": [
    "CSV_URL = 'https://www.divi.de/joomlatools-files/docman-files/divi-intensivregister-tagesreports-csv/DIVI-Intensivregister_2020-12-28_12-15.csv'"
   ]
  },
  {
   "cell_type": "code",
   "execution_count": 79,
   "metadata": {},
   "outputs": [],
   "source": [
    "with requests.Session() as session:\n",
    "    request = session.get(CSV_URL)\n",
    "    decoded_content = request.content.decode('utf-8')\n",
    "    divi_data = pd.read_csv(io.StringIO(decoded_content), delimiter=',')"
   ]
  },
  {
   "cell_type": "code",
   "execution_count": 80,
   "metadata": {},
   "outputs": [
    {
     "data": {
      "text/html": [
       "<div>\n",
       "<style scoped>\n",
       "    .dataframe tbody tr th:only-of-type {\n",
       "        vertical-align: middle;\n",
       "    }\n",
       "\n",
       "    .dataframe tbody tr th {\n",
       "        vertical-align: top;\n",
       "    }\n",
       "\n",
       "    .dataframe thead th {\n",
       "        text-align: right;\n",
       "    }\n",
       "</style>\n",
       "<table border=\"1\" class=\"dataframe\">\n",
       "  <thead>\n",
       "    <tr style=\"text-align: right;\">\n",
       "      <th></th>\n",
       "      <th>bundesland</th>\n",
       "      <th>gemeindeschluessel</th>\n",
       "      <th>anzahl_meldebereiche</th>\n",
       "      <th>faelle_covid_aktuell</th>\n",
       "      <th>faelle_covid_aktuell_beatmet</th>\n",
       "      <th>anzahl_standorte</th>\n",
       "      <th>betten_frei</th>\n",
       "      <th>betten_belegt</th>\n",
       "      <th>daten_stand</th>\n",
       "    </tr>\n",
       "  </thead>\n",
       "  <tbody>\n",
       "    <tr>\n",
       "      <th>0</th>\n",
       "      <td>1</td>\n",
       "      <td>1001</td>\n",
       "      <td>3</td>\n",
       "      <td>3</td>\n",
       "      <td>0</td>\n",
       "      <td>2</td>\n",
       "      <td>8</td>\n",
       "      <td>33</td>\n",
       "      <td>2020-12-28 12:15:00</td>\n",
       "    </tr>\n",
       "    <tr>\n",
       "      <th>1</th>\n",
       "      <td>1</td>\n",
       "      <td>1002</td>\n",
       "      <td>5</td>\n",
       "      <td>8</td>\n",
       "      <td>5</td>\n",
       "      <td>3</td>\n",
       "      <td>50</td>\n",
       "      <td>114</td>\n",
       "      <td>2020-12-28 12:15:00</td>\n",
       "    </tr>\n",
       "    <tr>\n",
       "      <th>2</th>\n",
       "      <td>1</td>\n",
       "      <td>1003</td>\n",
       "      <td>2</td>\n",
       "      <td>12</td>\n",
       "      <td>5</td>\n",
       "      <td>2</td>\n",
       "      <td>27</td>\n",
       "      <td>111</td>\n",
       "      <td>2020-12-28 12:15:00</td>\n",
       "    </tr>\n",
       "    <tr>\n",
       "      <th>3</th>\n",
       "      <td>1</td>\n",
       "      <td>1004</td>\n",
       "      <td>1</td>\n",
       "      <td>1</td>\n",
       "      <td>0</td>\n",
       "      <td>1</td>\n",
       "      <td>4</td>\n",
       "      <td>21</td>\n",
       "      <td>2020-12-28 12:15:00</td>\n",
       "    </tr>\n",
       "    <tr>\n",
       "      <th>4</th>\n",
       "      <td>1</td>\n",
       "      <td>1051</td>\n",
       "      <td>1</td>\n",
       "      <td>4</td>\n",
       "      <td>3</td>\n",
       "      <td>1</td>\n",
       "      <td>5</td>\n",
       "      <td>33</td>\n",
       "      <td>2020-12-28 12:15:00</td>\n",
       "    </tr>\n",
       "  </tbody>\n",
       "</table>\n",
       "</div>"
      ],
      "text/plain": [
       "   bundesland  gemeindeschluessel  anzahl_meldebereiche  faelle_covid_aktuell  \\\n",
       "0           1                1001                     3                     3   \n",
       "1           1                1002                     5                     8   \n",
       "2           1                1003                     2                    12   \n",
       "3           1                1004                     1                     1   \n",
       "4           1                1051                     1                     4   \n",
       "\n",
       "   faelle_covid_aktuell_beatmet  anzahl_standorte  betten_frei  betten_belegt  \\\n",
       "0                             0                 2            8             33   \n",
       "1                             5                 3           50            114   \n",
       "2                             5                 2           27            111   \n",
       "3                             0                 1            4             21   \n",
       "4                             3                 1            5             33   \n",
       "\n",
       "           daten_stand  \n",
       "0  2020-12-28 12:15:00  \n",
       "1  2020-12-28 12:15:00  \n",
       "2  2020-12-28 12:15:00  \n",
       "3  2020-12-28 12:15:00  \n",
       "4  2020-12-28 12:15:00  "
      ]
     },
     "execution_count": 80,
     "metadata": {},
     "output_type": "execute_result"
    }
   ],
   "source": [
    "divi_data.head()"
   ]
  },
  {
   "cell_type": "code",
   "execution_count": 84,
   "metadata": {},
   "outputs": [
    {
     "data": {
      "text/plain": [
       "0     NaN\n",
       "1     NaN\n",
       "2     NaN\n",
       "3     NaN\n",
       "4     NaN\n",
       "       ..\n",
       "392   NaN\n",
       "393   NaN\n",
       "394   NaN\n",
       "395   NaN\n",
       "396   NaN\n",
       "Name: gemeindeschluessel, Length: 397, dtype: float64"
      ]
     },
     "execution_count": 84,
     "metadata": {},
     "output_type": "execute_result"
    }
   ],
   "source": [
    "divi_data['gemeindeschluessel'].where(divi_data['gemeindeschluessel'] == 34002)"
   ]
  },
  {
   "cell_type": "code",
   "execution_count": 83,
   "metadata": {},
   "outputs": [
    {
     "name": "stdout",
     "output_type": "stream",
     "text": [
      "0       1001\n",
      "1       1002\n",
      "2       1003\n",
      "3       1004\n",
      "4       1051\n",
      "       ...  \n",
      "392    16073\n",
      "393    16074\n",
      "394    16075\n",
      "395    16076\n",
      "396    16077\n",
      "Name: gemeindeschluessel, Length: 397, dtype: int64\n"
     ]
    }
   ],
   "source": [
    "print(divi_data['gemeindeschluessel'])"
   ]
  }
 ],
 "metadata": {
  "kernelspec": {
   "display_name": "Python 3",
   "language": "python",
   "name": "python3"
  },
  "language_info": {
   "codemirror_mode": {
    "name": "ipython",
    "version": 3
   },
   "file_extension": ".py",
   "mimetype": "text/x-python",
   "name": "python",
   "nbconvert_exporter": "python",
   "pygments_lexer": "ipython3",
   "version": "3.6.9-final"
  }
 },
 "nbformat": 4,
 "nbformat_minor": 4
}
